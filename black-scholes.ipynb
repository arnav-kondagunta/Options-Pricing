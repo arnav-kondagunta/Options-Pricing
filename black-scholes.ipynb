{
 "cells": [
  {
   "cell_type": "code",
   "execution_count": 25,
   "metadata": {},
   "outputs": [],
   "source": [
    "#import packages\n",
    "import numpy as np\n",
    "import pandas as pd\n",
    "import matplotlib.pyplot as plt\n",
    "import seaborn as sns\n",
    "from scipy.stats import norm\n",
    "import yfinance as yf\n",
    "import os\n",
    "from fredapi import Fred\n",
    "from dotenv import load_dotenv, dotenv_values\n",
    "import datetime"
   ]
  },
  {
   "cell_type": "code",
   "execution_count": 26,
   "metadata": {},
   "outputs": [],
   "source": [
    "#assigning env variables\n",
    "load_dotenv()\n",
    "FED_API_KEY = os.getenv('FED_API_KEY')\n",
    "FED_RATES = ['DGS1', 'DGS2', 'DGS3', 'DGS5', 'DGS7', 'DGS10', 'DGS20', 'DGS30', 'DGS3MO', 'DGS6MO', 'DGS1MO', 'DGS2MO', 'DGS3MO', 'DGS6MO', 'T10YIE', 'FEDFUNDS']"
   ]
  },
  {
   "cell_type": "code",
   "execution_count": 27,
   "metadata": {},
   "outputs": [],
   "source": [
    "#fetch yfinance stock data\n",
    "def get_stock_data(ticker, period='1y'):\n",
    "    stock = yf.Ticker(ticker)\n",
    "    stock_price = stock.history(period='1d')['Close'][0]\n",
    "    hist = stock.history(period=period)\n",
    "    hist['returns'] = hist['Close'].pct_change()\n",
    "    volatility = hist['returns'].std() * (252 ** 0.5)\n",
    "    return stock_price, volatility, hist"
   ]
  },
  {
   "cell_type": "code",
   "execution_count": 28,
   "metadata": {},
   "outputs": [],
   "source": [
    "#fetch risk free rate from fred data\n",
    "def get_fred_data(rate_id):\n",
    "    fred = Fred(api_key=FED_API_KEY)\n",
    "    risk_free_rate = fred.get_series(rate_id).iloc[-1] / 100\n",
    "    return risk_free_rate"
   ]
  },
  {
   "cell_type": "code",
   "execution_count": 29,
   "metadata": {},
   "outputs": [],
   "source": [
    "#black-scholes model\n",
    "def black_scholes_calc(S0, K, r, T, sd, option_type='Call'):\n",
    "    '''\n",
    "    S0 = initial stock price\n",
    "    K = strike price\n",
    "    r = risk-free rate\n",
    "    T = time until expiry\n",
    "    sd = volatility\n",
    "    '''\n",
    "    #Time to expiry is given in days, so convert to years\n",
    "    T = T / 252\n",
    "\n",
    "    #First, determine d1 and d2\n",
    "    d1 = 1/(sd*np.sqrt(T)) * (np.log(S0/K) + (r+sd**2/2)*T)\n",
    "    d2 = d1 - sd*np.sqrt(T)\n",
    "\n",
    "    #Next, find norm cdf of d1 and d2\n",
    "    nd1 = norm.cdf(d1)\n",
    "    nd2 = norm.cdf(d2)\n",
    "\n",
    "    n_d1 = norm.cdf(-d1)\n",
    "    n_d2 = norm.cdf(-d2)\n",
    "\n",
    "    #Then, find call and put value\n",
    "    call = round(nd1*S0 - nd2*K*np.exp(-r*T), 2)\n",
    "    put = round(K*np.exp(-r*T)*n_d2 - S0*n_d1, 2)\n",
    "\n",
    "    if option_type==\"Call\":\n",
    "        return call\n",
    "    elif option_type==\"Put\":\n",
    "        return put\n",
    "    else:\n",
    "        print(\"Wrong option type specified\")"
   ]
  },
  {
   "cell_type": "code",
   "execution_count": 30,
   "metadata": {},
   "outputs": [],
   "source": [
    "def get_time_period(expire_date):\n",
    "    today = datetime.date.today()\n",
    "    time_period = abs((expire_date - today).days)\n",
    "    return time_period"
   ]
  },
  {
   "cell_type": "code",
   "execution_count": 31,
   "metadata": {},
   "outputs": [
    {
     "name": "stderr",
     "output_type": "stream",
     "text": [
      "/var/folders/_8/wd_8wp492y9bssv94k3bcft00000gn/T/ipykernel_14670/3514981169.py:4: FutureWarning: Series.__getitem__ treating keys as positions is deprecated. In a future version, integer keys will always be treated as labels (consistent with DataFrame behavior). To access a value by position, use `ser.iloc[pos]`\n",
      "  stock_price = stock.history(period='1d')['Close'][0]\n"
     ]
    }
   ],
   "source": [
    "#data input\n",
    "ticker = 'AAPL'\n",
    "strike_price = float(110)\n",
    "expire_date = datetime.date(2025,6,20)\n",
    "risk_free_rates = FED_RATES[5]\n",
    "opt_type = 'Call'\n",
    "\n",
    "if ticker:\n",
    "    apple = yf.Ticker(\"AAPL\")\n",
    "    #stock_price = apple.history(period=\"1d\")['Close'][0]\n",
    "    stock_price, volatility, hist = get_stock_data(ticker)\n",
    "else:\n",
    "    print('Please enter a valid stock ticker symbol.')\n",
    "\n",
    "if expire_date:\n",
    "    time = get_time_period(expire_date)\n",
    "else:\n",
    "    print('Please enter a valid date.')\n",
    "\n",
    "if risk_free_rates:\n",
    "    rate = get_fred_data(risk_free_rates)\n"
   ]
  },
  {
   "cell_type": "code",
   "execution_count": 32,
   "metadata": {},
   "outputs": [
    {
     "name": "stdout",
     "output_type": "stream",
     "text": [
      "The value of your option is $86.58\n"
     ]
    }
   ],
   "source": [
    "\n",
    "if ticker and stock_price and rate and time and volatility:\n",
    "    value = black_scholes_calc(stock_price, strike_price, rate, time, volatility, opt_type)\n",
    "    print(f\"The value of your option is ${value}\")\n",
    "else:\n",
    "    print('Error. Please try again.')"
   ]
  },
  {
   "cell_type": "code",
   "execution_count": 33,
   "metadata": {},
   "outputs": [
    {
     "name": "stdout",
     "output_type": "stream",
     "text": [
      "3.78\n"
     ]
    }
   ],
   "source": [
    "value = black_scholes_calc(36, 40, 0.06, 63, 0.2, \"Put\")\n",
    "print(value)"
   ]
  }
 ],
 "metadata": {
  "kernelspec": {
   "display_name": ".venv",
   "language": "python",
   "name": "python3"
  },
  "language_info": {
   "codemirror_mode": {
    "name": "ipython",
    "version": 3
   },
   "file_extension": ".py",
   "mimetype": "text/x-python",
   "name": "python",
   "nbconvert_exporter": "python",
   "pygments_lexer": "ipython3",
   "version": "3.11.4"
  },
  "orig_nbformat": 4
 },
 "nbformat": 4,
 "nbformat_minor": 2
}
